{
 "cells": [
  {
   "cell_type": "markdown",
   "metadata": {},
   "source": [
    "# Inaugural Project"
   ]
  },
  {
   "attachments": {},
   "cell_type": "markdown",
   "metadata": {},
   "source": [
    "> **Note the following:** \n",
    "> 1. This is an example of how to structure your **inaugural project**.\n",
    "> 1. Remember the general advice on structuring and commenting your code\n",
    "> 1. The `inauguralproject.py` file includes a function which can be used multiple times in this notebook."
   ]
  },
  {
   "cell_type": "markdown",
   "metadata": {},
   "source": [
    "Imports and set magics:"
   ]
  },
  {
   "cell_type": "code",
   "execution_count": 1,
   "metadata": {},
   "outputs": [],
   "source": [
    "import numpy as np\n",
    "import matplotlib.pyplot as plt\n",
    "\n",
    "# autoreload modules when code is run. Otherwise, python will not see recent changes. \n",
    "%load_ext autoreload\n",
    "%autoreload 2\n",
    "\n",
    "# Import your own code\n",
    "import inauguralproject"
   ]
  },
  {
   "cell_type": "markdown",
   "metadata": {},
   "source": [
    "# Question 1"
   ]
  },
  {
   "cell_type": "markdown",
   "metadata": {},
   "source": [
    "**Explain how you solve the model**"
   ]
  },
  {
   "cell_type": "code",
   "execution_count": null,
   "metadata": {},
   "outputs": [],
   "source": [
    "from HouseholdSpecializationModel import HouseholdSpecializationModelClass\n",
    "import matplotlib.pyplot as plt\n",
    "\n",
    "\n",
    "model = HouseholdSpecializationModelClass()\n",
    "\n",
    "alpha_values = [0.25, 0.5, 0.75]\n",
    "sigma_values = [0.5, 1, 1,5]\n",
    "\n",
    "for alpha in alpha_values:\n",
    "    model.par.alpha = alpha\n",
    "    HM = model.sol.HM_vec\n",
    "    HF = model.sol.HF_vec\n",
    "    H = HM**(1-model.par.alpha) * HF**model.par.alpha\n",
    "    plt.plot(model.par.wF_vec, H, label=f\"alpha={alpha}\")\n",
    "plt.legend()\n",
    "plt.show()\n",
    "\n",
    "\n"
   ]
  },
  {
   "cell_type": "code",
   "execution_count": 78,
   "metadata": {},
   "outputs": [
    {
     "name": "stderr",
     "output_type": "stream",
     "text": [
      "/Users/oliverhoutved/Desktop/Økonomi/8. Semester/Introduction to programming & Numerical analysis/Ny/projects-2023-vennerne/inauguralproject/HouseholdSpecializationModel.py:62: RuntimeWarning: divide by zero encountered in reciprocal\n",
      "  H = ((1-par.alpha)*HM**((par.sigma-1)/par.sigma)+par.alpha*HF**((par.sigma-1)/par.sigma))**(par.sigma/(par.sigma-1))\n",
      "No artists with labels found to put in legend.  Note that artists whose label start with an underscore are ignored when legend() is called with no argument.\n"
     ]
    },
    {
     "data": {
      "text/plain": [
       "<matplotlib.legend.Legend at 0x7feff0026610>"
      ]
     },
     "execution_count": 78,
     "metadata": {},
     "output_type": "execute_result"
    },
    {
     "data": {
      "image/png": "[encoded data removed]",
      "text/plain": [
       "<Figure size 640x480 with 1 Axes>"
      ]
     },
     "metadata": {},
     "output_type": "display_data"
    }
   ],
   "source": [
    "from HouseholdSpecializationModel import HouseholdSpecializationModelClass\n",
    "import matplotlib.pyplot as plt\n",
    "\n",
    "model = HouseholdSpecializationModelClass()\n",
    "\n",
    "alpha_values = [0.25, 0.5, 0.75]\n",
    "sigma_values = [0.5, 1.0, 1.5]\n",
    "\n",
    "HMratio05 = []\n",
    "model.par.sigma = 0.5\n",
    "for alpha in alpha_values:\n",
    "    model.par.alpha = alpha\n",
    "    dis_sol = model.solve_discrete()\n",
    "    HMratio05.append(dis_sol.HF/dis_sol.HM) \n",
    "\n",
    "HMratio10 = []\n",
    "model.par.sigma = 1.0\n",
    "for alpha in alpha_values:\n",
    "    model.par.alpha = alpha\n",
    "    dis_sol = model.solve_discrete()\n",
    "    HMratio10.append(dis_sol.HF/dis_sol.HM) \n",
    "\n",
    "HMratio15 = []\n",
    "model.par.sigma = 1.5\n",
    "for alpha in alpha_values:\n",
    "    model.par.alpha = alpha\n",
    "    dis_sol = model.solve_discrete()\n",
    "    HMratio15.append(dis_sol.HF/dis_sol.HM) \n",
    "\n",
    "\n",
    "\n",
    "fig = plt.figure()\n",
    "plt.plot(sigma_values, HMratio05)\n",
    "plt.plot(sigma_values, HMratio10)\n",
    "plt.plot(sigma_values, HMratio15)\n",
    "plt.xticks(np.arange(min(sigma_values), max(sigma_values)+0.5, 0.5))\n",
    "plt.legend()\n"
   ]
  },
  {
   "cell_type": "code",
   "execution_count": null,
   "metadata": {},
   "outputs": [],
   "source": []
  },
  {
   "cell_type": "markdown",
   "metadata": {},
   "source": [
    "# Question 2"
   ]
  },
  {
   "cell_type": "markdown",
   "metadata": {},
   "source": [
    "Explain your code and procedure"
   ]
  },
  {
   "cell_type": "code",
   "execution_count": null,
   "metadata": {},
   "outputs": [],
   "source": []
  },
  {
   "cell_type": "markdown",
   "metadata": {},
   "source": [
    "# Question 3"
   ]
  },
  {
   "cell_type": "markdown",
   "metadata": {},
   "source": [
    "Explain your code and procedure"
   ]
  },
  {
   "cell_type": "code",
   "execution_count": null,
   "metadata": {},
   "outputs": [],
   "source": [
    "# code"
   ]
  },
  {
   "cell_type": "markdown",
   "metadata": {},
   "source": [
    "ADD CONCISE CONLUSION."
   ]
  }
 ],
 "metadata": {
  "kernelspec": {
   "display_name": "base",
   "language": "python",
   "name": "python3"
  },
  "language_info": {
   "codemirror_mode": {
    "name": "ipython",
    "version": 3
   },
   "file_extension": ".py",
   "mimetype": "text/x-python",
   "name": "python",
   "nbconvert_exporter": "python",
   "pygments_lexer": "ipython3",
   "version": "3.9.13"
  },
  "toc-autonumbering": true,
  "vscode": {
   "interpreter": {
    "hash": "47ef90cdf3004d3f859f1fb202523c65c07ba7c22eefd261b181f4744e2d0403"
   }
  }
 },
 "nbformat": 4,
 "nbformat_minor": 4
}
