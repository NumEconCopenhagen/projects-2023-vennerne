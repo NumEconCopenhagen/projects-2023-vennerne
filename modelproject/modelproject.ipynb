{
 "cells": [
  {
   "attachments": {},
   "cell_type": "markdown",
   "metadata": {},
   "source": [
    "# YOUR PROJECT TITLE"
   ]
  },
  {
   "attachments": {},
   "cell_type": "markdown",
   "metadata": {},
   "source": [
    "> **Note the following:** \n",
    "> 1. This is *not* meant to be an example of an actual **model analysis project**, just an example of how to structure such a project.\n",
    "> 1. Remember the general advice on structuring and commenting your code\n",
    "> 1. The `modelproject.py` file includes a function which could be used multiple times in this notebook."
   ]
  },
  {
   "attachments": {},
   "cell_type": "markdown",
   "metadata": {},
   "source": [
    "Imports and set magics:"
   ]
  },
  {
   "cell_type": "code",
   "execution_count": 71,
   "metadata": {},
   "outputs": [
    {
     "name": "stdout",
     "output_type": "stream",
     "text": [
      "The autoreload extension is already loaded. To reload it, use:\n",
      "  %reload_ext autoreload\n"
     ]
    }
   ],
   "source": [
    "import numpy as np\n",
    "from scipy import optimize\n",
    "import sympy as sm\n",
    "\n",
    "# autoreload modules when code is run\n",
    "%load_ext autoreload\n",
    "%autoreload 2\n",
    "\n",
    "# local modules\n",
    "import modelproject"
   ]
  },
  {
   "attachments": {},
   "cell_type": "markdown",
   "metadata": {},
   "source": [
    "# Model description"
   ]
  },
  {
   "attachments": {},
   "cell_type": "markdown",
   "metadata": {},
   "source": [
    "**Supply**\n",
    "\n",
    " Consider a representative construction firm which produces and sells on a perfect competition market. The firm produces housing stock according to the production function: $I=A\\cdot X^\\beta$, where $X=aL+bQ$ is a composite input consisting of $a$ units of labour and $b$ units of materials. The condition $0<\\beta<1$ ensures diminishing returns to scale which is plausible, as the amount of land is scarce both in the short and long run. The price of one composite input is denoted construction costs and equals: $P=aW+bp^Q$. Thus, the representative firm faces the maximization problem:\n",
    "\\begin{equation}\n",
    "\\underset{I}{\\arg\\max}\\ \\Pi(I)=\\underset{I}{\\arg\\max}\\ P^HI-PX=\\underset{I}{\\arg\\max}\\ P^HI-P\\left(\\frac{I}{A}\\right)^\\frac{1}{\\beta}\n",
    "\\end{equation}\n",
    "Where $P^H$ is house prices. The housing stock evolves according to a simple identity: $H_{+1}=H(1-\\delta)+I^*$. In absence of economic and population growth, it is plausible to assume $I^*=\\delta H$ in the long run.\n",
    "\n",
    "**Demand**\n",
    "\n",
    "A representative consumer with Cobb-Douglas utility maximizes\n",
    "\\begin{equation*}\n",
    "\\underset{H,C}{\\arg\\max}\\ H^\\eta C^{1-\\eta}, \\; \\text{st.} \\; (1-m)Y= C+uP^HH\n",
    "\\end{equation*}\n",
    "where $H$ is consumption of housing service, $C$ is consumption of other nondurable goods than housing and $\\eta$ denotes relative preference for housing. Utility is maximized subject to a budget constraint. $(1-m)Y$ is disposable income. $u$ is a user cost measure to be specified below. $H$ is the size of the housing stock. The price of nondurable goods is normalized to 1. The user costs are given s\n",
    "\\begin{equation*}\n",
    "u=(1-d)i-\\pi^e+\\delta+\\tau)P^HH\n",
    "\\end{equation*}\n",
    "The consumer pays interest $i$ on mortgage debt, however the government offers mortgage relief to such an extend that a fracition $d$ is deducted from interest expenses. Hence the after tax interest rate is $(1-d)i$, and the after tax real interest rate is $(1-d)i-\\pi^e$. $\\delta$ is the depreciation costs of housing, which inflicts a cost to the consumer. Finally $\\tau$ is the effective tax rate on real estate."
   ]
  },
  {
   "attachments": {},
   "cell_type": "markdown",
   "metadata": {},
   "source": [
    "Define all symbols:"
   ]
  },
  {
   "cell_type": "code",
   "execution_count": 83,
   "metadata": {},
   "outputs": [],
   "source": [
    "PH = sm.symbols('P^H')\n",
    "I = sm.symbols('I')\n",
    "P = sm.symbols('P')\n",
    "A = sm.symbols('A')\n",
    "beta = sm.symbols('beta')\n",
    "H = sm.symbols('H')\n",
    "delta = sm.symbols('delta')\n",
    "C = sm.symbols('C')\n",
    "eta = sm.symbols('eta')\n",
    "m = sm.symbols('m')\n",
    "Y = sm.symbols('Y')\n",
    "d = sm.symbols('d')\n",
    "i = sm.symbols('i')\n",
    "pi = sm.symbols('pi')\n",
    "tau = sm.symbols('tau')\n"
   ]
  },
  {
   "attachments": {},
   "cell_type": "markdown",
   "metadata": {},
   "source": [
    "## Analytical solution"
   ]
  },
  {
   "attachments": {},
   "cell_type": "markdown",
   "metadata": {},
   "source": [
    "If your model allows for an analytical solution, you should provide here.\n",
    "\n",
    "You may use Sympy for this. Then you can characterize the solution as a function of a parameter of the model.\n",
    "\n",
    "To characterize the solution, first derive a steady state equation as a function of a parameter using Sympy.solve and then turn it into a python function by Sympy.lambdify. See the lecture notes for details. "
   ]
  },
  {
   "attachments": {},
   "cell_type": "markdown",
   "metadata": {},
   "source": [
    "**Supply**\n",
    "\n",
    "The firm produces at the intersection between marginal revenue and marginal costs: $\\frac{\\partial\\left( P^HI\\right)}{\\partial I}=\\frac{\\partial\\left( PX\\right)}{\\partial I}\\iff \\frac{\\partial\\Pi}{\\partial I}=0$, which is the first order condition. Solving for $I$ yields the optimal production level:\n",
    "\\begin{equation*}\n",
    "    \\frac{\\partial\\Pi}{\\partial I}=0\\implies P^H-\\frac{P}{A\\beta}\\left(\\frac{I}{A}\\right)^{\\frac{1-\\beta}{\\beta}}=0\\iff\n",
    "\\end{equation*}\n",
    " \n",
    "\\begin{equation}\n",
    "    I^*=k\\left(\\frac{P^H}{P}\\right)^\\frac{\\beta}{1-\\beta},\\quad k=\\beta^\\frac{\\beta}{1-\\beta}A^\\frac{1}{1-\\beta}\n",
    "\\end{equation}\n",
    "The housing stock evolves according to a simple identity: $H_{+1}=H(1-\\delta)+I^*$. In absence of economic and population growth, it is plausible to assume $I^*=\\delta H$ in the long run. This would imply, a long-run supply curve for housing is given by:\n",
    "\\begin{equation}\n",
    "    H^s=\\frac{k}{\\delta}\\left(\\frac{P^H}{P}\\right)^\\frac{\\beta}{1-\\beta}\n",
    "\\end{equation}\n"
   ]
  },
  {
   "cell_type": "code",
   "execution_count": 84,
   "metadata": {},
   "outputs": [
    {
     "data": {
      "text/latex": [
       "$\\displaystyle I P^{H} - P \\left(\\frac{I}{A}\\right)^{\\frac{1}{\\beta}}$"
      ],
      "text/plain": [
       "I*P^H - P*(I/A)**(1/beta)"
      ]
     },
     "execution_count": 84,
     "metadata": {},
     "output_type": "execute_result"
    }
   ],
   "source": [
    "#Defining profit function\n",
    "profit = PH*I-P*(I/A)**(1/beta)\n",
    "profit"
   ]
  },
  {
   "cell_type": "code",
   "execution_count": 85,
   "metadata": {},
   "outputs": [
    {
     "data": {
      "text/latex": [
       "$\\displaystyle P^{H} - \\frac{P \\left(\\frac{I}{A}\\right)^{\\frac{1}{\\beta}}}{I \\beta}$"
      ],
      "text/plain": [
       "P^H - P*(I/A)**(1/beta)/(I*beta)"
      ]
     },
     "execution_count": 85,
     "metadata": {},
     "output_type": "execute_result"
    }
   ],
   "source": [
    "# Firts order condition. Note this is an unconstrained optimization problem of 1 variable.\n",
    "foc_s = sm.diff(profit, I)\n",
    "foc_s"
   ]
  },
  {
   "cell_type": "code",
   "execution_count": 86,
   "metadata": {},
   "outputs": [
    {
     "data": {
      "text/latex": [
       "$\\displaystyle \\left(\\frac{A^{- \\frac{1}{\\beta}} P}{P^{H} \\beta}\\right)^{\\frac{\\beta}{\\beta - 1}}$"
      ],
      "text/plain": [
       "(P/(A**(1/beta)*P^H*beta))**(beta/(beta - 1))"
      ]
     },
     "execution_count": 86,
     "metadata": {},
     "output_type": "execute_result"
    }
   ],
   "source": [
    "# Solving for optimal investment level\n",
    "sol_s = sm.solve(sm.Eq(foc_s,0), I)\n",
    "sol_s[0]"
   ]
  },
  {
   "cell_type": "code",
   "execution_count": 87,
   "metadata": {},
   "outputs": [
    {
     "data": {
      "text/latex": [
       "$\\displaystyle \\frac{\\left(\\frac{A^{- \\frac{1}{\\beta}} P}{P^{H} \\beta}\\right)^{\\frac{\\beta}{\\beta - 1}}}{\\delta}$"
      ],
      "text/plain": [
       "(P/(A**(1/beta)*P^H*beta))**(beta/(beta - 1))/delta"
      ]
     },
     "execution_count": 87,
     "metadata": {},
     "output_type": "execute_result"
    }
   ],
   "source": [
    "# This implies the following steady state value of housing stock as argued above\n",
    "H_s = sol_s[0]/delta\n",
    "H_s"
   ]
  },
  {
   "cell_type": "code",
   "execution_count": 97,
   "metadata": {},
   "outputs": [
    {
     "data": {
      "text/latex": [
       "$\\displaystyle \\frac{A^{- \\frac{1}{\\beta}} P \\left(H \\delta\\right)^{\\frac{1 - \\beta}{\\beta}}}{\\beta}$"
      ],
      "text/plain": [
       "P*(H*delta)**((1 - beta)/beta)/(A**(1/beta)*beta)"
      ]
     },
     "execution_count": 97,
     "metadata": {},
     "output_type": "execute_result"
    }
   ],
   "source": [
    "# Solving for PH in the equation above to find an inverse supply function. We use this to find the equilibrium housing stock level later.\n",
    "PH_s = sm.solve(sm.Eq(H_s,H),PH)\n",
    "PH_s[0]"
   ]
  },
  {
   "attachments": {},
   "cell_type": "markdown",
   "metadata": {},
   "source": [
    "**Demand**\n",
    "\n",
    "utility = H**eta*C**(1-eta)"
   ]
  },
  {
   "cell_type": "code",
   "execution_count": 88,
   "metadata": {},
   "outputs": [
    {
     "data": {
      "text/latex": [
       "$\\displaystyle C + H P^{H} \\left(\\delta + i \\left(1 - d\\right) - \\pi + \\tau\\right) = Y \\left(1 - m\\right)$"
      ],
      "text/plain": [
       "Eq(C + H*P^H*(delta + i*(1 - d) - pi + tau), Y*(1 - m))"
      ]
     },
     "execution_count": 88,
     "metadata": {},
     "output_type": "execute_result"
    }
   ],
   "source": [
    "# Defining utility function and budget constraint. Note this is a constrained optimization problem of 2 variables.\n",
    "utility = H**eta*C**(1-eta)\n",
    "utility\n",
    "budget_constraint = sm.Eq(C+((1-d)*i-pi+delta+tau)*PH*H,(1-m)*Y)\n",
    "budget_constraint"
   ]
  },
  {
   "cell_type": "code",
   "execution_count": 89,
   "metadata": {},
   "outputs": [
    {
     "data": {
      "text/latex": [
       "$\\displaystyle H P^{H} d i - H P^{H} \\delta - H P^{H} i + H P^{H} \\pi - H P^{H} \\tau - Y m + Y$"
      ],
      "text/plain": [
       "H*P^H*d*i - H*P^H*delta - H*P^H*i + H*P^H*pi - H*P^H*tau - Y*m + Y"
      ]
     },
     "execution_count": 89,
     "metadata": {},
     "output_type": "execute_result"
    }
   ],
   "source": [
    "# isolate C on LHS in the budget constraint\n",
    "C_from_con = sm.solve(budget_constraint, C)\n",
    "C_from_con[0]"
   ]
  },
  {
   "cell_type": "code",
   "execution_count": 90,
   "metadata": {},
   "outputs": [
    {
     "data": {
      "text/latex": [
       "$\\displaystyle H^{\\eta} \\left(H P^{H} d i - H P^{H} \\delta - H P^{H} i + H P^{H} \\pi - H P^{H} \\tau - Y m + Y\\right)^{1 - \\eta}$"
      ],
      "text/plain": [
       "H**eta*(H*P^H*d*i - H*P^H*delta - H*P^H*i + H*P^H*pi - H*P^H*tau - Y*m + Y)**(1 - eta)"
      ]
     },
     "execution_count": 90,
     "metadata": {},
     "output_type": "execute_result"
    }
   ],
   "source": [
    "# Substituting C into the utility function\n",
    "utility_subs = utility.subs(C, C_from_con[0])\n",
    "utility_subs"
   ]
  },
  {
   "cell_type": "code",
   "execution_count": 91,
   "metadata": {},
   "outputs": [
    {
     "data": {
      "text/latex": [
       "$\\displaystyle \\frac{H^{\\eta} \\left(1 - \\eta\\right) \\left(P^{H} d i - P^{H} \\delta - P^{H} i + P^{H} \\pi - P^{H} \\tau\\right) \\left(H P^{H} d i - H P^{H} \\delta - H P^{H} i + H P^{H} \\pi - H P^{H} \\tau - Y m + Y\\right)^{1 - \\eta}}{H P^{H} d i - H P^{H} \\delta - H P^{H} i + H P^{H} \\pi - H P^{H} \\tau - Y m + Y} + \\frac{H^{\\eta} \\eta \\left(H P^{H} d i - H P^{H} \\delta - H P^{H} i + H P^{H} \\pi - H P^{H} \\tau - Y m + Y\\right)^{1 - \\eta}}{H}$"
      ],
      "text/plain": [
       "H**eta*(1 - eta)*(P^H*d*i - P^H*delta - P^H*i + P^H*pi - P^H*tau)*(H*P^H*d*i - H*P^H*delta - H*P^H*i + H*P^H*pi - H*P^H*tau - Y*m + Y)**(1 - eta)/(H*P^H*d*i - H*P^H*delta - H*P^H*i + H*P^H*pi - H*P^H*tau - Y*m + Y) + H**eta*eta*(H*P^H*d*i - H*P^H*delta - H*P^H*i + H*P^H*pi - H*P^H*tau - Y*m + Y)**(1 - eta)/H"
      ]
     },
     "execution_count": 91,
     "metadata": {},
     "output_type": "execute_result"
    }
   ],
   "source": [
    "#First order condition with respect to H\n",
    "foc_d = sm.diff(utility_subs, H)\n",
    "foc_d"
   ]
  },
  {
   "cell_type": "code",
   "execution_count": 95,
   "metadata": {},
   "outputs": [
    {
     "data": {
      "text/latex": [
       "$\\displaystyle \\frac{Y \\eta \\left(m - 1\\right)}{P^{H} \\left(d i - \\delta - i + \\pi - \\tau\\right)}$"
      ],
      "text/plain": [
       "Y*eta*(m - 1)/(P^H*(d*i - delta - i + pi - tau))"
      ]
     },
     "execution_count": 95,
     "metadata": {},
     "output_type": "execute_result"
    }
   ],
   "source": [
    "# Solving to find a demand function for housing service\n",
    "sol_d = sm.solve(sm.Eq(foc_d,0), H)\n",
    "H_d = sol_d[0]\n",
    "H_d"
   ]
  },
  {
   "cell_type": "code",
   "execution_count": 96,
   "metadata": {},
   "outputs": [
    {
     "data": {
      "text/latex": [
       "$\\displaystyle \\frac{Y \\eta \\left(1 - m\\right)}{H \\left(- d i + \\delta + i - \\pi + \\tau\\right)}$"
      ],
      "text/plain": [
       "Y*eta*(1 - m)/(H*(-d*i + delta + i - pi + tau))"
      ]
     },
     "execution_count": 96,
     "metadata": {},
     "output_type": "execute_result"
    }
   ],
   "source": [
    "#Isolating PH in the demand function to find an inverse demand function. We use this to find the equilibrium housing stock level below\n",
    "PH_d = sm.solve(sm.Eq(H_d,H),PH)\n",
    "PH_d[0]"
   ]
  },
  {
   "cell_type": "code",
   "execution_count": 100,
   "metadata": {},
   "outputs": [
    {
     "data": {
      "text/latex": [
       "$\\displaystyle \\frac{\\left(\\frac{A^{\\frac{1}{\\beta}} Y \\beta \\delta \\eta \\left(1 - m\\right)}{P \\left(- d i + \\delta + i - \\pi + \\tau\\right)}\\right)^{\\beta}}{\\delta}$"
      ],
      "text/plain": [
       "(A**(1/beta)*Y*beta*delta*eta*(1 - m)/(P*(-d*i + delta + i - pi + tau)))**beta/delta"
      ]
     },
     "execution_count": 100,
     "metadata": {},
     "output_type": "execute_result"
    }
   ],
   "source": [
    "#We equalize the inverse supply and demand function and solve for H to find the steady state equilibrium of housing stock as function of parameters\n",
    "equilibrium_H = sm.Eq(PH_s[0],PH_d[0])\n",
    "sol_equilibrium_H = sm.solve(equilibrium_H,H)\n",
    "sol_equilibrium_H[0]"
   ]
  },
  {
   "cell_type": "code",
   "execution_count": 101,
   "metadata": {},
   "outputs": [
    {
     "data": {
      "text/latex": [
       "$\\displaystyle \\left(- \\frac{P^{- \\frac{\\beta}{\\beta - 1}} Y \\beta^{\\frac{\\beta}{\\beta - 1}} \\delta \\eta \\left(m - 1\\right) e^{\\frac{\\log{\\left(A \\right)}}{\\beta - 1}}}{- d i + \\delta + i - \\pi + \\tau}\\right)^{1 - \\beta}$"
      ],
      "text/plain": [
       "(-Y*beta**(beta/(beta - 1))*delta*eta*(m - 1)*exp(log(A)/(beta - 1))/(P**(beta/(beta - 1))*(-d*i + delta + i - pi + tau)))**(1 - beta)"
      ]
     },
     "execution_count": 101,
     "metadata": {},
     "output_type": "execute_result"
    }
   ],
   "source": [
    "#We equalize the supply and demand functions and solve for PH to find the steady state equilibrium house prices level as function of parameters\n",
    "equilibrium_PH = sm.Eq(H_s,H_d)\n",
    "sol_equilibrium_PH = sm.solve(equilibrium_PH,PH)\n",
    "sol_equilibrium_PH[0]"
   ]
  },
  {
   "attachments": {},
   "cell_type": "markdown",
   "metadata": {},
   "source": [
    "## Numerical solution"
   ]
  },
  {
   "attachments": {},
   "cell_type": "markdown",
   "metadata": {},
   "source": [
    "You can always solve a model numerically. \n",
    "\n",
    "Define first the set of parameters you need. \n",
    "\n",
    "Then choose one of the optimization algorithms that we have gone through in the lectures based on what you think is most fitting for your model.\n",
    "\n",
    "Are there any problems with convergence? Does the model converge for all starting values? Make a lot of testing to figure these things out. "
   ]
  },
  {
   "attachments": {},
   "cell_type": "markdown",
   "metadata": {},
   "source": [
    "# Further analysis"
   ]
  },
  {
   "attachments": {},
   "cell_type": "markdown",
   "metadata": {},
   "source": [
    "Make detailed vizualizations of how your model changes with parameter values. \n",
    "\n",
    "Try to make an extension of the model. "
   ]
  },
  {
   "attachments": {},
   "cell_type": "markdown",
   "metadata": {},
   "source": [
    "# Conclusion"
   ]
  },
  {
   "attachments": {},
   "cell_type": "markdown",
   "metadata": {},
   "source": [
    "Add concise conclusion. "
   ]
  }
 ],
 "metadata": {
  "kernelspec": {
   "display_name": "base",
   "language": "python",
   "name": "python3"
  },
  "language_info": {
   "codemirror_mode": {
    "name": "ipython",
    "version": 3
   },
   "file_extension": ".py",
   "mimetype": "text/x-python",
   "name": "python",
   "nbconvert_exporter": "python",
   "pygments_lexer": "ipython3",
   "version": "3.9.13"
  },
  "toc-autonumbering": true,
  "vscode": {
   "interpreter": {
    "hash": "47ef90cdf3004d3f859f1fb202523c65c07ba7c22eefd261b181f4744e2d0403"
   }
  }
 },
 "nbformat": 4,
 "nbformat_minor": 4
}
