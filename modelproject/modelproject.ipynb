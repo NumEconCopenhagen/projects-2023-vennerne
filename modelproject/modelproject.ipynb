{
 "cells": [
  {
   "attachments": {},
   "cell_type": "markdown",
   "metadata": {},
   "source": [
    "# House prices and residential investments"
   ]
  },
  {
   "attachments": {},
   "cell_type": "markdown",
   "metadata": {},
   "source": [
    "> **Note the following:** \n",
    "> 1. This is *not* meant to be an example of an actual **model analysis project**, just an example of how to structure such a project.\n",
    "> 1. Remember the general advice on structuring and commenting your code\n",
    "> 1. The `modelproject.py` file includes a function which could be used multiple times in this notebook."
   ]
  },
  {
   "attachments": {},
   "cell_type": "markdown",
   "metadata": {},
   "source": [
    "Imports and set magics:"
   ]
  },
  {
   "cell_type": "code",
   "execution_count": 230,
   "metadata": {},
   "outputs": [
    {
     "name": "stdout",
     "output_type": "stream",
     "text": [
      "The autoreload extension is already loaded. To reload it, use:\n",
      "  %reload_ext autoreload\n"
     ]
    }
   ],
   "source": [
    "import numpy as np\n",
    "from scipy import optimize\n",
    "import sympy as sm\n",
    "import matplotlib.pyplot as plt\n",
    "\n",
    "# autoreload modules when code is run\n",
    "%load_ext autoreload\n",
    "%autoreload 2\n",
    "\n",
    "# local modules\n",
    "import modelproject"
   ]
  },
  {
   "attachments": {},
   "cell_type": "markdown",
   "metadata": {},
   "source": [
    "## Model description\n",
    "\n",
    "We use a static modelling of the housing market from Sørensen and Whitta-Jacobsen 2010, Introducing Advanced Macroecnomics."
   ]
  },
  {
   "attachments": {},
   "cell_type": "markdown",
   "metadata": {},
   "source": [
    "**Supply**\n",
    "\n",
    " Consider a representative construction firm which produces and sells on a perfect competition market. The firm produces housing stock according to the production function: $I=A\\cdot X^\\beta$, where $X=aL+bQ$ is a composite input consisting of $a$ units of labour and $b$ units of materials. The condition $0<\\beta<1$ ensures diminishing returns to scale which is plausible, as the amount of land is scarce both in the short and long run. The price of one composite input is denoted construction costs and equals: $P=aW+bp^Q$. Thus, the representative firm faces the maximization problem:\n",
    "\\begin{equation}\n",
    "\\underset{I}{\\arg\\max}\\ \\Pi(I)=\\underset{I}{\\arg\\max}\\ P^HI-PX=\\underset{I}{\\arg\\max}\\ P^HI-P\\left(\\frac{I}{A}\\right)^\\frac{1}{\\beta}\n",
    "\\end{equation}\n",
    "Where $P^H$ is house prices. The housing stock evolves according to a simple identity: $H_{+1}=H(1-\\delta)+I^*$. In absence of economic and population growth, it is plausible to assume $I^*=\\delta H\\iff H=\\frac{I^*}{\\delta}$ in the long run.\n",
    "\n",
    "**Demand**\n",
    "\n",
    "A representative consumer with Cobb-Douglas utility maximizes\n",
    "\\begin{equation*}\n",
    "\\underset{H,C}{\\arg\\max}\\ H^\\eta C^{1-\\eta}, \\; \\text{st.} \\; (1-m)Y= C+uP^HH\n",
    "\\end{equation*}\n",
    "where $H$ is consumption of housing service, $C$ is consumption of other nondurable goods than housing and $\\eta$ denotes relative preference for housing. Utility is maximized subject to a budget constraint. $(1-m)Y$ is disposable income. $u$ is a user cost measure to be specified below. $H$ is the size of the housing stock. The price of nondurable goods is normalized to 1. The user costs are given as\n",
    "\\begin{equation*}\n",
    "u=(1-d)i-\\pi^e+\\delta+\\tau)P^HH\n",
    "\\end{equation*}\n",
    "The consumer pays interest $i$ on mortgage debt, however the government offers mortgage relief to such an extend that a fracition $d$ is deducted from interest expenses. Hence the after tax interest rate is $(1-d)i$, and the after tax real interest rate is $(1-d)i-\\pi^e$. $\\delta$ is the depreciation costs of housing, which inflicts a cost to the consumer. Finally $\\tau$ is the effective tax rate on real estate."
   ]
  },
  {
   "attachments": {},
   "cell_type": "markdown",
   "metadata": {},
   "source": [
    "## Analytical solution"
   ]
  },
  {
   "attachments": {},
   "cell_type": "markdown",
   "metadata": {},
   "source": [
    "We will derive the analytical solution manually first"
   ]
  },
  {
   "attachments": {},
   "cell_type": "markdown",
   "metadata": {},
   "source": [
    "**Supply**\n",
    "\n",
    "The firm produces at the intersection between marginal revenue and marginal costs: $\\frac{\\partial\\left( P^HI\\right)}{\\partial I}=\\frac{\\partial\\left( PX\\right)}{\\partial I}\\iff \\frac{\\partial\\Pi}{\\partial I}=0$, which is the first order condition. Solving for $I$ yields the optimal production level:\n",
    "\\begin{equation*}\n",
    "    \\frac{\\partial\\Pi}{\\partial I}=0\\implies P^H-\\frac{P}{A\\beta}\\left(\\frac{I}{A}\\right)^{\\frac{1-\\beta}{\\beta}}=0\\iff\n",
    "\\end{equation*}\n",
    " \n",
    "\\begin{equation}\n",
    "    I^*=k\\left(\\frac{P^H}{P}\\right)^\\frac{\\beta}{1-\\beta},\\quad k=\\beta^\\frac{\\beta}{1-\\beta}A^\\frac{1}{1-\\beta}\n",
    "\\end{equation}\n",
    "The housing stock evolves according to a simple identity: $H_{+1}=H(1-\\delta)+I^*$. In absence of economic and population growth, it is plausible to assume $I^*=\\delta H$ in the long run. This would imply, a long-run supply curve for housing is given by:\n",
    "\\begin{equation}\n",
    "    H^s=\\frac{k}{\\delta}\\left(\\frac{P^H}{P}\\right)^\\frac{\\beta}{1-\\beta}\n",
    "\\end{equation}\n",
    "\n",
    "**Demand**\n",
    "\n",
    "Solve for $C$ in the budget constraint\n",
    "\\begin{equation}\n",
    "    C=(1-m)Y-uP^HH\n",
    "\\end{equation}\n",
    "Substitute in the utility function\n",
    "\\begin{equation}\n",
    "   u(H) = H^\\eta\\left((1-m)Y-uP^HH\\right)^{1-\\eta}\n",
    "\\end{equation}\n",
    "FOC\n",
    "\\begin{equation}\n",
    "   \\frac{du}{dH} = 0\\iff \\eta H^{\\eta-1}\\left((1-m)Y-uP^HH\\right)^{1-\\eta}-H^\\eta (1-\\eta)\\left((1-m)Y-uP^HH\\right)^{-\\eta}uP^H=0\\iff\n",
    "\\end{equation}\n",
    " \n",
    "\\begin{equation}\n",
    "   \\eta H^{\\eta-1}\\left((1-m)Y-uP^HH\\right)^{1-\\eta}=H^\\eta (1-\\eta)\\left((1-m)Y-uP^HH\\right)^{-\\eta}uP^H\\iff\n",
    "\\end{equation}\n",
    " \n",
    "\\begin{equation}\n",
    "   \\eta H^{-1}\\left((1-m)Y-uP^HH\\right)=(1-\\eta)uP^H\\iff\n",
    "\\end{equation}\n",
    " \n",
    "\\begin{equation}\n",
    "   \\frac{\\eta(1-m)Y}{H}-\\eta u P^H=(1-\\eta)uP^H\n",
    "\\end{equation}\n",
    " \n",
    "\\begin{equation}\n",
    "   H^d=\\frac{\\eta(1-m)Y}{uP^H} = \\frac{\\eta(1-m)Y}{((1-d)i-\\pi^e+\\delta+\\tau)P^H}\n",
    "\\end{equation}\n",
    "\n",
    "**Equilibrium**\n",
    "\n",
    "In the long run, the partial equilibrium must satisfy the market clearing condition: $H^s=H^d$. Solve for $P^H$ and $H$ to find the long-run market clearing price and quantity:\n",
    "\\begin{equation}\n",
    "    \\left(P^H\\right)^*=P^\\beta\\left(\\frac{\\delta\\eta}{k}\\cdot\\frac{(1-m)Y}{(1-d)i-\\pi^e+\\delta+\\tau}\\right)^{1-\\beta}\n",
    "\\end{equation}\n",
    "\n",
    "\\begin{equation}\n",
    "    H^*=\\left(\\frac{k}{\\delta}\\right)^{1-\\beta}\\left(\\frac{\\eta(1-m)Y}{((1-d)i-\\pi^e+\\delta+\\tau)P}\\right)^\\beta\n",
    "\\end{equation}\n"
   ]
  },
  {
   "attachments": {},
   "cell_type": "markdown",
   "metadata": {},
   "source": [
    "## Analytical solution using sympy\n",
    "\n",
    "This section derives the analytical solution using sympy. Below sybols are defined"
   ]
  },
  {
   "cell_type": "code",
   "execution_count": 231,
   "metadata": {},
   "outputs": [],
   "source": [
    "PH = sm.symbols('P^H')\n",
    "I = sm.symbols('I')\n",
    "P = sm.symbols('P')\n",
    "A = sm.symbols('A')\n",
    "beta = sm.symbols('beta')\n",
    "H = sm.symbols('H')\n",
    "delta = sm.symbols('delta')\n",
    "C = sm.symbols('C')\n",
    "eta = sm.symbols('eta')\n",
    "m = sm.symbols('m')\n",
    "Y = sm.symbols('Y')\n",
    "d = sm.symbols('d')\n",
    "i = sm.symbols('i')\n",
    "pi = sm.symbols('pi')\n",
    "tau = sm.symbols('tau')"
   ]
  },
  {
   "attachments": {},
   "cell_type": "markdown",
   "metadata": {},
   "source": [
    "### Supply"
   ]
  },
  {
   "cell_type": "code",
   "execution_count": 232,
   "metadata": {},
   "outputs": [
    {
     "data": {
      "text/latex": [
       "$\\displaystyle I P^{H} - P \\left(\\frac{I}{A}\\right)^{\\frac{1}{\\beta}}$"
      ],
      "text/plain": [
       "I*P^H - P*(I/A)**(1/beta)"
      ]
     },
     "execution_count": 232,
     "metadata": {},
     "output_type": "execute_result"
    }
   ],
   "source": [
    "#Defining profit function\n",
    "profit = PH*I-P*(I/A)**(1/beta)\n",
    "profit"
   ]
  },
  {
   "cell_type": "code",
   "execution_count": 233,
   "metadata": {},
   "outputs": [
    {
     "data": {
      "text/latex": [
       "$\\displaystyle P^{H} - \\frac{P \\left(\\frac{I}{A}\\right)^{\\frac{1}{\\beta}}}{I \\beta}$"
      ],
      "text/plain": [
       "P^H - P*(I/A)**(1/beta)/(I*beta)"
      ]
     },
     "execution_count": 233,
     "metadata": {},
     "output_type": "execute_result"
    }
   ],
   "source": [
    "# Firts order condition. Note this is an unconstrained optimization problem of 1 variable.\n",
    "foc_s = sm.diff(profit, I)\n",
    "foc_s"
   ]
  },
  {
   "cell_type": "code",
   "execution_count": 234,
   "metadata": {},
   "outputs": [
    {
     "data": {
      "text/latex": [
       "$\\displaystyle \\left(\\frac{A^{- \\frac{1}{\\beta}} P}{P^{H} \\beta}\\right)^{\\frac{\\beta}{\\beta - 1}}$"
      ],
      "text/plain": [
       "(P/(A**(1/beta)*P^H*beta))**(beta/(beta - 1))"
      ]
     },
     "execution_count": 234,
     "metadata": {},
     "output_type": "execute_result"
    }
   ],
   "source": [
    "# Solving for optimal investment level\n",
    "sol_s = sm.solve(sm.Eq(foc_s,0), I)\n",
    "sol_s[0]"
   ]
  },
  {
   "cell_type": "code",
   "execution_count": 235,
   "metadata": {},
   "outputs": [
    {
     "data": {
      "text/latex": [
       "$\\displaystyle \\frac{\\left(\\frac{A^{- \\frac{1}{\\beta}} P}{P^{H} \\beta}\\right)^{\\frac{\\beta}{\\beta - 1}}}{\\delta}$"
      ],
      "text/plain": [
       "(P/(A**(1/beta)*P^H*beta))**(beta/(beta - 1))/delta"
      ]
     },
     "execution_count": 235,
     "metadata": {},
     "output_type": "execute_result"
    }
   ],
   "source": [
    "# This implies the following steady state value of housing stock as argued above\n",
    "H_s = sol_s[0]/delta\n",
    "H_s"
   ]
  },
  {
   "cell_type": "code",
   "execution_count": 236,
   "metadata": {},
   "outputs": [
    {
     "data": {
      "text/latex": [
       "$\\displaystyle \\frac{A^{- \\frac{1}{\\beta}} P \\left(H \\delta\\right)^{\\frac{1 - \\beta}{\\beta}}}{\\beta}$"
      ],
      "text/plain": [
       "P*(H*delta)**((1 - beta)/beta)/(A**(1/beta)*beta)"
      ]
     },
     "execution_count": 236,
     "metadata": {},
     "output_type": "execute_result"
    }
   ],
   "source": [
    "# Solving for PH in the equation above to find an inverse supply function. We use this to find the equilibrium housing stock level later.\n",
    "PH_s = sm.solve(sm.Eq(H_s,H),PH)\n",
    "PH_s[0]"
   ]
  },
  {
   "attachments": {},
   "cell_type": "markdown",
   "metadata": {},
   "source": [
    "### Demand"
   ]
  },
  {
   "cell_type": "code",
   "execution_count": 237,
   "metadata": {},
   "outputs": [
    {
     "data": {
      "text/latex": [
       "$\\displaystyle C + H P^{H} \\left(\\delta + i \\left(1 - d\\right) - \\pi + \\tau\\right) = Y \\left(1 - m\\right)$"
      ],
      "text/plain": [
       "Eq(C + H*P^H*(delta + i*(1 - d) - pi + tau), Y*(1 - m))"
      ]
     },
     "execution_count": 237,
     "metadata": {},
     "output_type": "execute_result"
    }
   ],
   "source": [
    "# Defining utility function and budget constraint. Note this is a constrained optimization problem of 2 variables.\n",
    "utility = H**eta*C**(1-eta)\n",
    "utility\n",
    "budget_constraint = sm.Eq(C+((1-d)*i-pi+delta+tau)*PH*H,(1-m)*Y)\n",
    "budget_constraint"
   ]
  },
  {
   "cell_type": "code",
   "execution_count": 238,
   "metadata": {},
   "outputs": [
    {
     "data": {
      "text/latex": [
       "$\\displaystyle H P^{H} d i - H P^{H} \\delta - H P^{H} i + H P^{H} \\pi - H P^{H} \\tau - Y m + Y$"
      ],
      "text/plain": [
       "H*P^H*d*i - H*P^H*delta - H*P^H*i + H*P^H*pi - H*P^H*tau - Y*m + Y"
      ]
     },
     "execution_count": 238,
     "metadata": {},
     "output_type": "execute_result"
    }
   ],
   "source": [
    "# isolate C on LHS in the budget constraint\n",
    "C_from_con = sm.solve(budget_constraint, C)\n",
    "C_from_con[0]"
   ]
  },
  {
   "cell_type": "code",
   "execution_count": 239,
   "metadata": {},
   "outputs": [
    {
     "data": {
      "text/latex": [
       "$\\displaystyle H^{\\eta} \\left(H P^{H} d i - H P^{H} \\delta - H P^{H} i + H P^{H} \\pi - H P^{H} \\tau - Y m + Y\\right)^{1 - \\eta}$"
      ],
      "text/plain": [
       "H**eta*(H*P^H*d*i - H*P^H*delta - H*P^H*i + H*P^H*pi - H*P^H*tau - Y*m + Y)**(1 - eta)"
      ]
     },
     "execution_count": 239,
     "metadata": {},
     "output_type": "execute_result"
    }
   ],
   "source": [
    "# Substituting C into the utility function\n",
    "utility_subs = utility.subs(C, C_from_con[0])\n",
    "utility_subs"
   ]
  },
  {
   "cell_type": "code",
   "execution_count": 240,
   "metadata": {},
   "outputs": [
    {
     "data": {
      "text/latex": [
       "$\\displaystyle \\frac{H^{\\eta} \\left(1 - \\eta\\right) \\left(P^{H} d i - P^{H} \\delta - P^{H} i + P^{H} \\pi - P^{H} \\tau\\right) \\left(H P^{H} d i - H P^{H} \\delta - H P^{H} i + H P^{H} \\pi - H P^{H} \\tau - Y m + Y\\right)^{1 - \\eta}}{H P^{H} d i - H P^{H} \\delta - H P^{H} i + H P^{H} \\pi - H P^{H} \\tau - Y m + Y} + \\frac{H^{\\eta} \\eta \\left(H P^{H} d i - H P^{H} \\delta - H P^{H} i + H P^{H} \\pi - H P^{H} \\tau - Y m + Y\\right)^{1 - \\eta}}{H}$"
      ],
      "text/plain": [
       "H**eta*(1 - eta)*(P^H*d*i - P^H*delta - P^H*i + P^H*pi - P^H*tau)*(H*P^H*d*i - H*P^H*delta - H*P^H*i + H*P^H*pi - H*P^H*tau - Y*m + Y)**(1 - eta)/(H*P^H*d*i - H*P^H*delta - H*P^H*i + H*P^H*pi - H*P^H*tau - Y*m + Y) + H**eta*eta*(H*P^H*d*i - H*P^H*delta - H*P^H*i + H*P^H*pi - H*P^H*tau - Y*m + Y)**(1 - eta)/H"
      ]
     },
     "execution_count": 240,
     "metadata": {},
     "output_type": "execute_result"
    }
   ],
   "source": [
    "#First order condition with respect to H\n",
    "foc_d = sm.diff(utility_subs, H)\n",
    "foc_d"
   ]
  },
  {
   "cell_type": "code",
   "execution_count": 241,
   "metadata": {},
   "outputs": [
    {
     "data": {
      "text/latex": [
       "$\\displaystyle \\frac{Y \\eta \\left(m - 1\\right)}{P^{H} \\left(d i - \\delta - i + \\pi - \\tau\\right)}$"
      ],
      "text/plain": [
       "Y*eta*(m - 1)/(P^H*(d*i - delta - i + pi - tau))"
      ]
     },
     "execution_count": 241,
     "metadata": {},
     "output_type": "execute_result"
    }
   ],
   "source": [
    "# Solving to find a demand function for housing service\n",
    "sol_d = sm.solve(sm.Eq(foc_d,0), H)\n",
    "H_d = sol_d[0]\n",
    "H_d"
   ]
  },
  {
   "cell_type": "code",
   "execution_count": 242,
   "metadata": {},
   "outputs": [
    {
     "data": {
      "text/latex": [
       "$\\displaystyle \\frac{Y \\eta \\left(1 - m\\right)}{H \\left(- d i + \\delta + i - \\pi + \\tau\\right)}$"
      ],
      "text/plain": [
       "Y*eta*(1 - m)/(H*(-d*i + delta + i - pi + tau))"
      ]
     },
     "execution_count": 242,
     "metadata": {},
     "output_type": "execute_result"
    }
   ],
   "source": [
    "#Isolating PH in the demand function to find an inverse demand function. We use this to find the equilibrium housing stock level below\n",
    "PH_d = sm.solve(sm.Eq(H_d,H),PH)\n",
    "PH_d[0]"
   ]
  },
  {
   "attachments": {},
   "cell_type": "markdown",
   "metadata": {},
   "source": [
    "### Equilibrium"
   ]
  },
  {
   "cell_type": "code",
   "execution_count": 243,
   "metadata": {},
   "outputs": [
    {
     "data": {
      "text/latex": [
       "$\\displaystyle \\frac{\\left(\\frac{A^{\\frac{1}{\\beta}} Y \\beta \\delta \\eta \\left(1 - m\\right)}{P \\left(- d i + \\delta + i - \\pi + \\tau\\right)}\\right)^{\\beta}}{\\delta}$"
      ],
      "text/plain": [
       "(A**(1/beta)*Y*beta*delta*eta*(1 - m)/(P*(-d*i + delta + i - pi + tau)))**beta/delta"
      ]
     },
     "execution_count": 243,
     "metadata": {},
     "output_type": "execute_result"
    }
   ],
   "source": [
    "#We equalize the inverse supply and demand function and solve for H to find the steady state equilibrium of housing stock as function of parameters\n",
    "equilibrium_H = sm.Eq(PH_s[0],PH_d[0])\n",
    "sol_equilibrium_H = sm.solve(equilibrium_H,H)\n",
    "sol_equilibrium_H[0]\n",
    "# This is equal to the solution found manually - only more messy"
   ]
  },
  {
   "cell_type": "code",
   "execution_count": 244,
   "metadata": {},
   "outputs": [
    {
     "data": {
      "text/latex": [
       "$\\displaystyle \\left(- \\frac{P^{- \\frac{\\beta}{\\beta - 1}} Y \\beta^{\\frac{\\beta}{\\beta - 1}} \\delta \\eta \\left(m - 1\\right) e^{\\frac{\\log{\\left(A \\right)}}{\\beta - 1}}}{- d i + \\delta + i - \\pi + \\tau}\\right)^{1 - \\beta}$"
      ],
      "text/plain": [
       "(-Y*beta**(beta/(beta - 1))*delta*eta*(m - 1)*exp(log(A)/(beta - 1))/(P**(beta/(beta - 1))*(-d*i + delta + i - pi + tau)))**(1 - beta)"
      ]
     },
     "execution_count": 244,
     "metadata": {},
     "output_type": "execute_result"
    }
   ],
   "source": [
    "#We equalize the supply and demand functions and solve for PH to find the steady state equilibrium house prices level as function of parameters\n",
    "equilibrium_PH = sm.Eq(H_s,H_d)\n",
    "sol_equilibrium_PH = sm.solve(equilibrium_PH,PH)\n",
    "sol_equilibrium_PH[0]\n",
    "# This is equal to the solution found manually - only more messy"
   ]
  },
  {
   "attachments": {},
   "cell_type": "markdown",
   "metadata": {},
   "source": [
    "## Numerical solution"
   ]
  },
  {
   "attachments": {},
   "cell_type": "markdown",
   "metadata": {},
   "source": [
    "### Supply side"
   ]
  },
  {
   "cell_type": "code",
   "execution_count": 245,
   "metadata": {},
   "outputs": [
    {
     "name": "stdout",
     "output_type": "stream",
     "text": [
      "1.0\n",
      "9.0\n"
     ]
    }
   ],
   "source": [
    "def profit(I,PH,P,A,beta):\n",
    "    return PH*I - P*(I/A)**(1/beta)\n",
    "\n",
    "PH = 10\n",
    "P = 1\n",
    "A = 1\n",
    "beta = 0.1\n",
    "\n",
    "result = optimize.minimize_scalar(lambda x: -profit(x,PH,P,A,beta), method='golden')\n",
    "I = result.x\n",
    "pi = profit(I,PH,P,A,beta)\n",
    "print(I)\n",
    "print(pi)\n"
   ]
  },
  {
   "cell_type": "code",
   "execution_count": 246,
   "metadata": {},
   "outputs": [],
   "source": [
    "def profit(I, PH, P, A, beta):\n",
    "    return PH*I - P*(I/A)**(1/beta)\n",
    "\n",
    "P = 1\n",
    "A = 1\n",
    "delta = 0.01\n",
    "\n",
    "# Define range of beta and PH values\n",
    "beta_values = np.linspace(0.8, 0.9, num=6)\n",
    "PH_values = np.linspace(1, 2, num=100)\n",
    "\n",
    "# Create an empty array to store the results\n",
    "I_opt = np.zeros((len(beta_values), len(PH_values)))\n",
    "H_opt = np.zeros((len(beta_values), len(PH_values)))\n",
    "\n",
    "# Loop over beta and PH values and solve the profit function\n",
    "for i, beta in enumerate(beta_values):\n",
    "    for j, PH in enumerate(PH_values):\n",
    "        result = optimize.minimize_scalar(lambda x: -profit(x,PH,P,A,beta), method='golden')\n",
    "        I = result.x\n",
    "        pi = profit(I,PH,P,A,beta)\n",
    "        I_opt[i,j] = I  # Store optimal investment level\n",
    "        H_opt[i,j] = I/delta  # Store steady state housing stock level"
   ]
  },
  {
   "attachments": {},
   "cell_type": "markdown",
   "metadata": {},
   "source": [
    "#### Optimal investment level"
   ]
  },
  {
   "cell_type": "code",
   "execution_count": 247,
   "metadata": {},
   "outputs": [
    {
     "data": {
      "text/plain": [
       "<matplotlib.legend.Legend at 0x7fa34aed83d0>"
      ]
     },
     "execution_count": 247,
     "metadata": {},
     "output_type": "execute_result"
    },
    {
     "data": {
      "image/png": "[encoded data removed]",
      "text/plain": [
       "<Figure size 640x480 with 1 Axes>"
      ]
     },
     "metadata": {},
     "output_type": "display_data"
    }
   ],
   "source": [
    "fig = plt.figure()\n",
    "for v, beta in enumerate(beta_values):\n",
    "    plt.plot(PH_values, I_opt[v,:], label=r'$\\beta=$ {:.2f}'.format(beta))\n",
    "plt.xlabel(r'$\\frac{P^H}{P}$')\n",
    "plt.ylabel(r'$I^*$')\n",
    "plt.xticks(np.arange(min(PH_values), max(PH_values)+0.01, 0.1))\n",
    "plt.legend()"
   ]
  },
  {
   "attachments": {},
   "cell_type": "markdown",
   "metadata": {},
   "source": [
    "#### steady state housing stock level"
   ]
  },
  {
   "cell_type": "code",
   "execution_count": 248,
   "metadata": {},
   "outputs": [
    {
     "data": {
      "text/plain": [
       "<matplotlib.legend.Legend at 0x7fa30842bf40>"
      ]
     },
     "execution_count": 248,
     "metadata": {},
     "output_type": "execute_result"
    },
    {
     "data": {
      "image/png": "[encoded data removed]",
      "text/plain": [
       "<Figure size 640x480 with 1 Axes>"
      ]
     },
     "metadata": {},
     "output_type": "display_data"
    }
   ],
   "source": [
    "fig = plt.figure()\n",
    "for v, beta in enumerate(beta_values):\n",
    "    plt.plot(PH_values, H_opt[v,:], label=r'$\\beta=$ {:.2f}'.format(beta))\n",
    "plt.xlabel(r'$\\frac{P^H}{P}$')\n",
    "plt.ylabel(r'$H^*$')\n",
    "plt.xticks(np.arange(min(PH_values), max(PH_values)+0.01, 0.1))\n",
    "plt.legend()"
   ]
  },
  {
   "attachments": {},
   "cell_type": "markdown",
   "metadata": {},
   "source": [
    "### Demand"
   ]
  },
  {
   "cell_type": "code",
   "execution_count": 254,
   "metadata": {},
   "outputs": [],
   "source": []
  },
  {
   "cell_type": "code",
   "execution_count": 268,
   "metadata": {},
   "outputs": [
    {
     "name": "stdout",
     "output_type": "stream",
     "text": [
      "46.29554840744837\n",
      "2.500040388190445\n"
     ]
    }
   ],
   "source": [
    "def u_func(H,C,eta=0.50):\n",
    "    return H**eta * C**(1-eta)\n",
    "\n",
    "Y=10\n",
    "m=0.5\n",
    "d=0.3\n",
    "i=0.05\n",
    "pie=0.02\n",
    "delta=0.01\n",
    "tau=0.02\n",
    "u=(1-d)*i-pie+delta+tau\n",
    "Y_disp = (1-m)*Y\n",
    "PH=1.2\n",
    "\n",
    "# a. objective function (to minimize)\n",
    "def value_of_choice(x,eta,PH,u,Y_disp):\n",
    "    # note: x is a array, but u_func takes scalars.\n",
    "    return -u_func(x[0],x[1])\n",
    "\n",
    "# b. constraints (violated if negative) and bounds. x is an array.\n",
    "constraints = ({'type': 'ineq', 'fun': lambda x:  Y_disp-PH*u*x[0]-x[1]})\n",
    "bounds = ((0,Y_disp/(PH*u)),(0,Y_disp))\n",
    "\n",
    "# c. call solver, use SLSQP\n",
    "initial_guess = [Y_disp/PH/2,Y_disp/2]\n",
    "\n",
    "sol_case2 = optimize.minimize(\n",
    "    value_of_choice, initial_guess, args=(eta,PH,u,Y_disp),\n",
    "    method='SLSQP', bounds=bounds, constraints=constraints)\n",
    "\n",
    "# d. unpack solution\n",
    "H = sol_case2.x[0]\n",
    "C = sol_case2.x[1]\n",
    "u = u_func(H,C,eta)\n",
    "\n",
    "print(H)\n",
    "print(C)\n",
    "\n",
    "\n",
    "\n"
   ]
  },
  {
   "attachments": {},
   "cell_type": "markdown",
   "metadata": {},
   "source": [
    "You can always solve a model numerically. \n",
    "\n",
    "Define first the set of parameters you need. \n",
    "\n",
    "Then choose one of the optimization algorithms that we have gone through in the lectures based on what you think is most fitting for your model.\n",
    "\n",
    "Are there any problems with convergence? Does the model converge for all starting values? Make a lot of testing to figure these things out. "
   ]
  },
  {
   "attachments": {},
   "cell_type": "markdown",
   "metadata": {},
   "source": [
    "#### Demand side"
   ]
  },
  {
   "attachments": {},
   "cell_type": "markdown",
   "metadata": {},
   "source": [
    "# Further analysis"
   ]
  },
  {
   "attachments": {},
   "cell_type": "markdown",
   "metadata": {},
   "source": [
    "Make detailed vizualizations of how your model changes with parameter values. \n",
    "\n",
    "Try to make an extension of the model. "
   ]
  },
  {
   "attachments": {},
   "cell_type": "markdown",
   "metadata": {},
   "source": [
    "# Conclusion"
   ]
  },
  {
   "attachments": {},
   "cell_type": "markdown",
   "metadata": {},
   "source": [
    "Add concise conclusion. "
   ]
  }
 ],
 "metadata": {
  "kernelspec": {
   "display_name": "base",
   "language": "python",
   "name": "python3"
  },
  "language_info": {
   "codemirror_mode": {
    "name": "ipython",
    "version": 3
   },
   "file_extension": ".py",
   "mimetype": "text/x-python",
   "name": "python",
   "nbconvert_exporter": "python",
   "pygments_lexer": "ipython3",
   "version": "3.9.13"
  },
  "toc-autonumbering": true,
  "vscode": {
   "interpreter": {
    "hash": "47ef90cdf3004d3f859f1fb202523c65c07ba7c22eefd261b181f4744e2d0403"
   }
  }
 },
 "nbformat": 4,
 "nbformat_minor": 4
}
